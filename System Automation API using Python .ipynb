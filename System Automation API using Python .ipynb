{
 "cells": [
  {
   "cell_type": "markdown",
   "metadata": {},
   "source": [
    "# Python Basics"
   ]
  },
  {
   "cell_type": "markdown",
   "metadata": {},
   "source": [
    "## Variables\n",
    "\n",
    "Python variables are untyped, i.e. no datatype is required to define a variable"
   ]
  },
  {
   "cell_type": "code",
   "execution_count": 1,
   "metadata": {},
   "outputs": [],
   "source": [
    "x=10 # static allocation "
   ]
  },
  {
   "cell_type": "code",
   "execution_count": 2,
   "metadata": {},
   "outputs": [
    {
     "name": "stdout",
     "output_type": "stream",
     "text": [
      "10\n"
     ]
    }
   ],
   "source": [
    "print(x) # to print a variable "
   ]
  },
  {
   "cell_type": "markdown",
   "metadata": {},
   "source": [
    "Sometimes variables are allocated dynamically during runtime by user input. Python not only creates a new variable on-demand, also, it assigns corresponding type. "
   ]
  },
  {
   "cell_type": "code",
   "execution_count": 4,
   "metadata": {},
   "outputs": [
    {
     "name": "stdout",
     "output_type": "stream",
     "text": [
      "Enter something : hello there... \n",
      "hello there... \n"
     ]
    }
   ],
   "source": [
    "y=input('Enter something : ')\n",
    "print(y)"
   ]
  },
  {
   "cell_type": "markdown",
   "metadata": {},
   "source": [
    "To check the type of a variable use `type()` method. "
   ]
  },
  {
   "cell_type": "code",
   "execution_count": 5,
   "metadata": {},
   "outputs": [
    {
     "data": {
      "text/plain": [
       "int"
      ]
     },
     "execution_count": 5,
     "metadata": {},
     "output_type": "execute_result"
    }
   ],
   "source": [
    "type(x)"
   ]
  },
  {
   "cell_type": "code",
   "execution_count": 6,
   "metadata": {},
   "outputs": [
    {
     "data": {
      "text/plain": [
       "str"
      ]
     },
     "execution_count": 6,
     "metadata": {},
     "output_type": "execute_result"
    }
   ],
   "source": [
    "type(y)"
   ]
  },
  {
   "cell_type": "markdown",
   "metadata": {},
   "source": [
    "Any input given is Python is by default of string type. You may use different __typecasting__ constructors to change it. "
   ]
  },
  {
   "cell_type": "code",
   "execution_count": 2,
   "metadata": {},
   "outputs": [
    {
     "name": "stdout",
     "output_type": "stream",
     "text": [
      "Enter a number... 25\n",
      "type of y is <class 'str'>\n",
      "Enter a number... 25\n",
      "type of y is <class 'int'>\n"
     ]
    }
   ],
   "source": [
    "# without typeasting \n",
    "y=input('Enter a number... ')\n",
    "print(f'type of y is {type(y)}')  # string formatting\n",
    "\n",
    "# with typeasting into integer\n",
    "y=int(input('Enter a number... '))\n",
    "print(f'type of y is {type(y)}')  # string formatting"
   ]
  },
  {
   "cell_type": "markdown",
   "metadata": {},
   "source": [
    "How to check if an existing variable is of a given type ?"
   ]
  },
  {
   "cell_type": "code",
   "execution_count": 10,
   "metadata": {},
   "outputs": [
    {
     "name": "stdout",
     "output_type": "stream",
     "text": [
      "True\n",
      "False\n"
     ]
    }
   ],
   "source": [
    "x=10\n",
    "print(isinstance(x,int))\n",
    "print(isinstance(x,float))"
   ]
  },
  {
   "cell_type": "markdown",
   "metadata": {},
   "source": [
    "## Control Flow Structure "
   ]
  },
  {
   "cell_type": "markdown",
   "metadata": {},
   "source": [
    "### if-else-elif "
   ]
  },
  {
   "cell_type": "code",
   "execution_count": 11,
   "metadata": {},
   "outputs": [
    {
     "name": "stdout",
     "output_type": "stream",
     "text": [
      "Enter name...Rishi\n",
      "Enter age... 30\n",
      "Rishi is a young person\n"
     ]
    }
   ],
   "source": [
    "name = input ('Enter name...')\n",
    "age = int(input('Enter age... '))\n",
    "if age in range(0,150):\n",
    "    if age < 18 : \n",
    "        print(f'{name} is a minor')\n",
    "    elif age >= 18 and age < 60:\n",
    "        print(f'{name} is a young person')\n",
    "    else:\n",
    "        print(f'{name} is an elderly person')\n",
    "else:\n",
    "    print('Invalid age')"
   ]
  },
  {
   "cell_type": "markdown",
   "metadata": {},
   "source": [
    "### For-loop"
   ]
  },
  {
   "cell_type": "code",
   "execution_count": 24,
   "metadata": {},
   "outputs": [
    {
     "name": "stdout",
     "output_type": "stream",
     "text": [
      "Table Generator\n",
      "************************\n",
      "Enter a number... 5\n",
      "5 x 1 \t = 5\n",
      "5 x 2 \t = 10\n",
      "5 x 3 \t = 15\n",
      "5 x 4 \t = 20\n",
      "5 x 5 \t = 25\n",
      "5 x 6 \t = 30\n",
      "5 x 7 \t = 35\n",
      "5 x 8 \t = 40\n",
      "5 x 9 \t = 45\n",
      "5 x 10 \t = 50\n"
     ]
    }
   ],
   "source": [
    "print('Table Generator\\n************************')\n",
    "num = int(input('Enter a number... '))\n",
    "for i in range(1,11):\n",
    "    print(f'{num} x {i} \\t = {num*i}')"
   ]
  },
  {
   "cell_type": "markdown",
   "metadata": {},
   "source": [
    "### While-loop"
   ]
  },
  {
   "cell_type": "code",
   "execution_count": 26,
   "metadata": {},
   "outputs": [
    {
     "name": "stdout",
     "output_type": "stream",
     "text": [
      "Table Generator\n",
      "************************\n",
      "Enter a number...6\n",
      "6 x 1 \t = 6\n",
      "6 x 2 \t = 12\n",
      "6 x 3 \t = 18\n",
      "6 x 4 \t = 24\n",
      "6 x 5 \t = 30\n",
      "6 x 6 \t = 36\n",
      "6 x 7 \t = 42\n",
      "6 x 8 \t = 48\n",
      "6 x 9 \t = 54\n",
      "6 x 10 \t = 60\n"
     ]
    }
   ],
   "source": [
    "print('Table Generator\\n************************')\n",
    "num = int(input('Enter a number...'))\n",
    "i = 1\n",
    "while i<11:\n",
    "    print(f'{num} x {i} \\t = {num * i}')\n",
    "    i += 1"
   ]
  },
  {
   "cell_type": "markdown",
   "metadata": {},
   "source": [
    "## Primitive Data-structures "
   ]
  },
  {
   "cell_type": "markdown",
   "metadata": {},
   "source": [
    "### List \n",
    "List is a heterogenous linked-list stucture in python"
   ]
  },
  {
   "cell_type": "code",
   "execution_count": 29,
   "metadata": {},
   "outputs": [],
   "source": [
    "lst = [1,2,'a','b']   #creating a list"
   ]
  },
  {
   "cell_type": "code",
   "execution_count": 28,
   "metadata": {},
   "outputs": [
    {
     "data": {
      "text/plain": [
       "[1, 2, 'a', 'b']"
      ]
     },
     "execution_count": 28,
     "metadata": {},
     "output_type": "execute_result"
    }
   ],
   "source": [
    "lst"
   ]
  },
  {
   "cell_type": "code",
   "execution_count": 30,
   "metadata": {},
   "outputs": [
    {
     "data": {
      "text/plain": [
       "list"
      ]
     },
     "execution_count": 30,
     "metadata": {},
     "output_type": "execute_result"
    }
   ],
   "source": [
    "type(lst)"
   ]
  },
  {
   "cell_type": "code",
   "execution_count": 31,
   "metadata": {},
   "outputs": [
    {
     "name": "stdout",
     "output_type": "stream",
     "text": [
      "item at location 2 is a\n"
     ]
    }
   ],
   "source": [
    "loc=2\n",
    "print(f'item at location {loc} is {lst[loc]}')  # reading item by location"
   ]
  },
  {
   "cell_type": "code",
   "execution_count": 32,
   "metadata": {},
   "outputs": [
    {
     "data": {
      "text/plain": [
       "[1, 2, 'abc', 'b']"
      ]
     },
     "execution_count": 32,
     "metadata": {},
     "output_type": "execute_result"
    }
   ],
   "source": [
    "lst[2]='abc'  # updating an item in a list \n",
    "lst"
   ]
  },
  {
   "cell_type": "code",
   "execution_count": 34,
   "metadata": {},
   "outputs": [
    {
     "data": {
      "text/plain": [
       "[1, 2, 'a', 'abc', 'b']"
      ]
     },
     "execution_count": 34,
     "metadata": {},
     "output_type": "execute_result"
    }
   ],
   "source": [
    "lst.insert(2,'a')  # inserting into a specific location\n",
    "lst"
   ]
  },
  {
   "cell_type": "code",
   "execution_count": 35,
   "metadata": {},
   "outputs": [
    {
     "data": {
      "text/plain": [
       "[1, 2, 'abc', 'b']"
      ]
     },
     "execution_count": 35,
     "metadata": {},
     "output_type": "execute_result"
    }
   ],
   "source": [
    "lst.pop(2)     # deleting from a specific location\n",
    "lst"
   ]
  },
  {
   "cell_type": "code",
   "execution_count": 36,
   "metadata": {},
   "outputs": [
    {
     "data": {
      "text/plain": [
       "4"
      ]
     },
     "execution_count": 36,
     "metadata": {},
     "output_type": "execute_result"
    }
   ],
   "source": [
    "len(lst)    # length of a list"
   ]
  },
  {
   "cell_type": "code",
   "execution_count": 39,
   "metadata": {},
   "outputs": [
    {
     "data": {
      "text/plain": [
       "['b', 'abc', 2, 1]"
      ]
     },
     "execution_count": 39,
     "metadata": {},
     "output_type": "execute_result"
    }
   ],
   "source": [
    "lst.reverse()  # reversing a list\n",
    "lst"
   ]
  },
  {
   "cell_type": "code",
   "execution_count": 49,
   "metadata": {},
   "outputs": [
    {
     "data": {
      "text/plain": [
       "[1, 5, 7, 8, 10]"
      ]
     },
     "execution_count": 49,
     "metadata": {},
     "output_type": "execute_result"
    }
   ],
   "source": [
    "test_list=[1,5,7,8,10]    # sorting a list\n",
    "test_list.sort(reverse=False)\n",
    "test_list"
   ]
  },
  {
   "cell_type": "markdown",
   "metadata": {},
   "source": [
    "### Set "
   ]
  },
  {
   "cell_type": "code",
   "execution_count": 50,
   "metadata": {},
   "outputs": [],
   "source": [
    "P = {2,3,5,7}   # Set of single digit prime numbers \n",
    "O = {1,3,5,7}   # Set of single digit odd numbers \n",
    "E = {0,2,4,6,8} # Set of ingle digit even numbers"
   ]
  },
  {
   "cell_type": "code",
   "execution_count": 51,
   "metadata": {},
   "outputs": [
    {
     "data": {
      "text/plain": [
       "set"
      ]
     },
     "execution_count": 51,
     "metadata": {},
     "output_type": "execute_result"
    }
   ],
   "source": [
    "type(P)"
   ]
  },
  {
   "cell_type": "code",
   "execution_count": 52,
   "metadata": {},
   "outputs": [
    {
     "data": {
      "text/plain": [
       "{1, 2, 3, 5, 7}"
      ]
     },
     "execution_count": 52,
     "metadata": {},
     "output_type": "execute_result"
    }
   ],
   "source": [
    "P.union(O)    # odd or prime"
   ]
  },
  {
   "cell_type": "code",
   "execution_count": 53,
   "metadata": {},
   "outputs": [
    {
     "data": {
      "text/plain": [
       "{2}"
      ]
     },
     "execution_count": 53,
     "metadata": {},
     "output_type": "execute_result"
    }
   ],
   "source": [
    "P.intersection(E) # even and prime"
   ]
  },
  {
   "cell_type": "code",
   "execution_count": 55,
   "metadata": {},
   "outputs": [
    {
     "data": {
      "text/plain": [
       "{3, 5, 7}"
      ]
     },
     "execution_count": 55,
     "metadata": {},
     "output_type": "execute_result"
    }
   ],
   "source": [
    "P-E # Prime but not even "
   ]
  },
  {
   "cell_type": "markdown",
   "metadata": {},
   "source": [
    "Finding distinct numbers from a list of numbers by typecasting into set "
   ]
  },
  {
   "cell_type": "code",
   "execution_count": 57,
   "metadata": {},
   "outputs": [
    {
     "name": "stdout",
     "output_type": "stream",
     "text": [
      "[1, 2, 4, 5, 6, 2, 1, 4, 5, 6, 1]\n",
      "[1, 2, 4, 5, 6]\n"
     ]
    }
   ],
   "source": [
    "lst = [1,2,4,5,6,2,1,4,5,6,1]\n",
    "print(lst)\n",
    "lst = list(set(lst))   # List --> Set --> List\n",
    "print(lst)"
   ]
  },
  {
   "cell_type": "markdown",
   "metadata": {},
   "source": [
    "### Dictionarry \n",
    "\n",
    "Unordered named list, i.e. values are index by alphanumeric indices called key. "
   ]
  },
  {
   "cell_type": "code",
   "execution_count": 65,
   "metadata": {},
   "outputs": [],
   "source": [
    "import random as rnd\n",
    "test_d = {\n",
    "    'name' : 'Something',           #kay : value\n",
    "    'age'  : rnd.randint(18,60),\n",
    "    'marks' : {\n",
    "        'Physics' : rnd.randint(0,100),\n",
    "        'Chemistry' : rnd.randint(0,100),\n",
    "        'Mathematics' : rnd.randint(0,100),\n",
    "        'Biology' : rnd.randint(0,100),\n",
    "    }\n",
    "}"
   ]
  },
  {
   "cell_type": "code",
   "execution_count": 66,
   "metadata": {},
   "outputs": [
    {
     "data": {
      "text/plain": [
       "{'name': 'Something',\n",
       " 'age': 44,\n",
       " 'marks': {'Physics': 56, 'Chemistry': 0, 'Mathematics': 10, 'Biology': 58}}"
      ]
     },
     "execution_count": 66,
     "metadata": {},
     "output_type": "execute_result"
    }
   ],
   "source": [
    "test_d"
   ]
  },
  {
   "cell_type": "markdown",
   "metadata": {},
   "source": [
    "A list of dictionarry forms a tabular structure. Each key becomes a column and the corresponding value becomes the value that specific row at that coloumn. "
   ]
  },
  {
   "cell_type": "code",
   "execution_count": 69,
   "metadata": {},
   "outputs": [
    {
     "data": {
      "text/plain": [
       "{'Physics': 56, 'Chemistry': 0, 'Mathematics': 10, 'Biology': 58}"
      ]
     },
     "execution_count": 69,
     "metadata": {},
     "output_type": "execute_result"
    }
   ],
   "source": [
    "test_d['marks']  # reading a value by key"
   ]
  },
  {
   "cell_type": "code",
   "execution_count": 70,
   "metadata": {},
   "outputs": [],
   "source": [
    "test_d['name'] = 'anything' # updating a value by its key"
   ]
  },
  {
   "cell_type": "code",
   "execution_count": 72,
   "metadata": {},
   "outputs": [
    {
     "data": {
      "text/plain": [
       "{'name': 'anything',\n",
       " 'age': 44,\n",
       " 'marks': {'Physics': 56, 'Chemistry': 0, 'Mathematics': 10, 'Biology': 58}}"
      ]
     },
     "execution_count": 72,
     "metadata": {},
     "output_type": "execute_result"
    }
   ],
   "source": [
    "test_d"
   ]
  },
  {
   "cell_type": "code",
   "execution_count": 78,
   "metadata": {},
   "outputs": [
    {
     "name": "stdout",
     "output_type": "stream",
     "text": [
      "value at key name is anything of type <class 'str'>\n",
      "value at key age is 44 of type <class 'int'>\n",
      "value at key marks is {'Physics': 56, 'Chemistry': 0, 'Mathematics': 10, 'Biology': 58} of type <class 'dict'>\n"
     ]
    }
   ],
   "source": [
    "for k in test_d.keys():     # reading values iteratively by its key\n",
    "    print(f'value at key {k} is {test_d[k]} of type {type(test_d[k])}')"
   ]
  },
  {
   "cell_type": "markdown",
   "metadata": {},
   "source": [
    "### Tuples \n",
    "\n",
    "Immutable ordered collection of heterogenous data. "
   ]
  },
  {
   "cell_type": "code",
   "execution_count": 79,
   "metadata": {},
   "outputs": [],
   "source": [
    "tup1 = ('a',1,2)"
   ]
  },
  {
   "cell_type": "code",
   "execution_count": 80,
   "metadata": {},
   "outputs": [
    {
     "data": {
      "text/plain": [
       "('a', 1, 2)"
      ]
     },
     "execution_count": 80,
     "metadata": {},
     "output_type": "execute_result"
    }
   ],
   "source": [
    "tup1"
   ]
  },
  {
   "cell_type": "code",
   "execution_count": 81,
   "metadata": {},
   "outputs": [
    {
     "data": {
      "text/plain": [
       "tuple"
      ]
     },
     "execution_count": 81,
     "metadata": {},
     "output_type": "execute_result"
    }
   ],
   "source": [
    "type(tup1)"
   ]
  },
  {
   "cell_type": "code",
   "execution_count": 82,
   "metadata": {},
   "outputs": [
    {
     "data": {
      "text/plain": [
       "1"
      ]
     },
     "execution_count": 82,
     "metadata": {},
     "output_type": "execute_result"
    }
   ],
   "source": [
    "tup1[1] # reading from index"
   ]
  },
  {
   "cell_type": "code",
   "execution_count": 84,
   "metadata": {},
   "outputs": [
    {
     "ename": "TypeError",
     "evalue": "'tuple' object does not support item assignment",
     "output_type": "error",
     "traceback": [
      "\u001b[1;31m---------------------------------------------------------------------------\u001b[0m",
      "\u001b[1;31mTypeError\u001b[0m                                 Traceback (most recent call last)",
      "\u001b[1;32m<ipython-input-84-8c2d240c9e08>\u001b[0m in \u001b[0;36m<module>\u001b[1;34m\u001b[0m\n\u001b[1;32m----> 1\u001b[1;33m \u001b[0mtup1\u001b[0m\u001b[1;33m[\u001b[0m\u001b[1;36m1\u001b[0m\u001b[1;33m]\u001b[0m \u001b[1;33m=\u001b[0m \u001b[1;36m3\u001b[0m \u001b[1;31m# immutable collection, updation is not possible\u001b[0m\u001b[1;33m\u001b[0m\u001b[1;33m\u001b[0m\u001b[0m\n\u001b[0m",
      "\u001b[1;31mTypeError\u001b[0m: 'tuple' object does not support item assignment"
     ]
    }
   ],
   "source": [
    "tup1[1] = 3 # immutable collection, updation is not possible"
   ]
  },
  {
   "cell_type": "code",
   "execution_count": 85,
   "metadata": {},
   "outputs": [
    {
     "data": {
      "text/plain": [
       "['a', 1, 2]"
      ]
     },
     "execution_count": 85,
     "metadata": {},
     "output_type": "execute_result"
    }
   ],
   "source": [
    "lst1 = list(tup1)  #typecast into list\n",
    "lst1"
   ]
  },
  {
   "cell_type": "markdown",
   "metadata": {},
   "source": [
    "## Serialization\n",
    "\n",
    "### Theory\n",
    "Computer networks are defined as a collection interconnected autonomous systems. The connections (edges) between netwrok devices (nodes) are descibed by its Topology which is modeled by Graph Theoretic principles and the computing modeles i.e. Algorithms are designed based on Distributed Systems. The connetions are inheritly FIFO (Sequential) in nature, thus it cannot carry any non-linear data-structures. However, duting RPC communication limiting the procedures to only linear structures are not realistic, especially while using Objects, as Objects are stored in memory Heap. Therefore Data stored in a Non-Linear DS must be converted into a linear format (Byte-Stream) before transmitting in a way that the receiver must reconstruct the source DS and retrive the original data. This transformation is called Serialization. All Modern programming languages such as Java and Python support Serializtion."
   ]
  },
  {
   "cell_type": "markdown",
   "metadata": {},
   "source": [
    "### Serializing primitive ADTs "
   ]
  },
  {
   "cell_type": "code",
   "execution_count": 87,
   "metadata": {},
   "outputs": [],
   "source": [
    "test_d = {\n",
    "    'name' : 'Something',           #kay : value\n",
    "    'age'  : rnd.randint(18,60),\n",
    "    'marks' : {\n",
    "        'Physics' : rnd.randint(0,100),\n",
    "        'Chemistry' : rnd.randint(0,100),\n",
    "        'Mathematics' : rnd.randint(0,100),\n",
    "        'Biology' : rnd.randint(0,100),\n",
    "    },\n",
    "    'optionals' : ['music', 'Mechanics']\n",
    "}"
   ]
  },
  {
   "cell_type": "code",
   "execution_count": 88,
   "metadata": {},
   "outputs": [
    {
     "data": {
      "text/plain": [
       "{'name': 'Something',\n",
       " 'age': 20,\n",
       " 'marks': {'Physics': 89, 'Chemistry': 55, 'Mathematics': 89, 'Biology': 25},\n",
       " 'optionals': ['music', 'Mechanics']}"
      ]
     },
     "execution_count": 88,
     "metadata": {},
     "output_type": "execute_result"
    }
   ],
   "source": [
    "test_d"
   ]
  },
  {
   "cell_type": "code",
   "execution_count": 89,
   "metadata": {},
   "outputs": [],
   "source": [
    "import json    # default serialization library commonly used in RESTFul APIs"
   ]
  },
  {
   "cell_type": "code",
   "execution_count": 94,
   "metadata": {},
   "outputs": [
    {
     "name": "stdout",
     "output_type": "stream",
     "text": [
      "{\"name\": \"Something\", \"age\": 20, \"marks\": {\"Physics\": 89, \"Chemistry\": 55, \"Mathematics\": 89, \"Biology\": 25}, \"optionals\": [\"music\", \"Mechanics\"]}\n",
      "<class 'str'>\n"
     ]
    }
   ],
   "source": [
    "# Step 1\n",
    "ser_dat = json.dumps(test_d)  # Serialization\n",
    "print(ser_dat)\n",
    "print(type(ser_dat))"
   ]
  },
  {
   "cell_type": "code",
   "execution_count": 95,
   "metadata": {},
   "outputs": [
    {
     "name": "stdout",
     "output_type": "stream",
     "text": [
      "b'{\"name\": \"Something\", \"age\": 20, \"marks\": {\"Physics\": 89, \"Chemistry\": 55, \"Mathematics\": 89, \"Biology\": 25}, \"optionals\": [\"music\", \"Mechanics\"]}'\n",
      "<class 'bytes'>\n"
     ]
    }
   ],
   "source": [
    "# Step 2\n",
    "bs_data = ser_dat.encode()  # Encoding into ByteStream\n",
    "print(bs_data)\n",
    "print(type(bs_data))"
   ]
  },
  {
   "cell_type": "code",
   "execution_count": 98,
   "metadata": {},
   "outputs": [
    {
     "name": "stdout",
     "output_type": "stream",
     "text": [
      "{\"name\": \"Something\", \"age\": 20, \"marks\": {\"Physics\": 89, \"Chemistry\": 55, \"Mathematics\": 89, \"Biology\": 25}, \"optionals\": [\"music\", \"Mechanics\"]}\n",
      "<class 'str'>\n"
     ]
    }
   ],
   "source": [
    "# Step 3\n",
    "ser_data2 = bytes.decode(bs_data) # Decoding strings from ByteStream\n",
    "print(ser_data2)\n",
    "print(type(ser_data2))"
   ]
  },
  {
   "cell_type": "code",
   "execution_count": 100,
   "metadata": {},
   "outputs": [
    {
     "data": {
      "text/plain": [
       "{'name': 'Something',\n",
       " 'age': 20,\n",
       " 'marks': {'Physics': 89, 'Chemistry': 55, 'Mathematics': 89, 'Biology': 25},\n",
       " 'optionals': ['music', 'Mechanics']}"
      ]
     },
     "execution_count": 100,
     "metadata": {},
     "output_type": "execute_result"
    }
   ],
   "source": [
    "# Step 4 \n",
    "json.loads(ser_data2)  # Deserializing "
   ]
  },
  {
   "cell_type": "markdown",
   "metadata": {},
   "source": [
    "### Serializing Objects "
   ]
  },
  {
   "cell_type": "code",
   "execution_count": 110,
   "metadata": {},
   "outputs": [
    {
     "data": {
      "text/plain": [
       "{'name': 'abc', 'age': 20}"
      ]
     },
     "execution_count": 110,
     "metadata": {},
     "output_type": "execute_result"
    }
   ],
   "source": [
    "class MyClass:     # defining class \n",
    "    # member variables \n",
    "    name          \n",
    "    age\n",
    "    \n",
    "    # member functions\n",
    "    def __init__(self,name, age):   #__init__() = Constructor \n",
    "        self.name = name            #'self' is like 'this' in java \n",
    "        self.age = age\n",
    "    \n",
    "    def get_info(self):                 # returns a dictionary \n",
    "        return {'name' : self.name , 'age' : self.age}\n",
    "    \n",
    "obj1 = MyClass('abc',20)  # crates an object\n",
    "\n",
    "obj1.get_info() #invoke functions from object"
   ]
  },
  {
   "cell_type": "code",
   "execution_count": 111,
   "metadata": {},
   "outputs": [
    {
     "ename": "TypeError",
     "evalue": "Object of type MyClass is not JSON serializable",
     "output_type": "error",
     "traceback": [
      "\u001b[1;31m---------------------------------------------------------------------------\u001b[0m",
      "\u001b[1;31mTypeError\u001b[0m                                 Traceback (most recent call last)",
      "\u001b[1;32m<ipython-input-111-10c9aaaa6f5a>\u001b[0m in \u001b[0;36m<module>\u001b[1;34m\u001b[0m\n\u001b[1;32m----> 1\u001b[1;33m \u001b[0mjson\u001b[0m\u001b[1;33m.\u001b[0m\u001b[0mdumps\u001b[0m\u001b[1;33m(\u001b[0m\u001b[0mobj1\u001b[0m\u001b[1;33m)\u001b[0m\u001b[1;33m\u001b[0m\u001b[1;33m\u001b[0m\u001b[0m\n\u001b[0m",
      "\u001b[1;32m~\\Anaconda3\\lib\\json\\__init__.py\u001b[0m in \u001b[0;36mdumps\u001b[1;34m(obj, skipkeys, ensure_ascii, check_circular, allow_nan, cls, indent, separators, default, sort_keys, **kw)\u001b[0m\n\u001b[0;32m    229\u001b[0m         \u001b[0mcls\u001b[0m \u001b[1;32mis\u001b[0m \u001b[1;32mNone\u001b[0m \u001b[1;32mand\u001b[0m \u001b[0mindent\u001b[0m \u001b[1;32mis\u001b[0m \u001b[1;32mNone\u001b[0m \u001b[1;32mand\u001b[0m \u001b[0mseparators\u001b[0m \u001b[1;32mis\u001b[0m \u001b[1;32mNone\u001b[0m \u001b[1;32mand\u001b[0m\u001b[1;33m\u001b[0m\u001b[1;33m\u001b[0m\u001b[0m\n\u001b[0;32m    230\u001b[0m         default is None and not sort_keys and not kw):\n\u001b[1;32m--> 231\u001b[1;33m         \u001b[1;32mreturn\u001b[0m \u001b[0m_default_encoder\u001b[0m\u001b[1;33m.\u001b[0m\u001b[0mencode\u001b[0m\u001b[1;33m(\u001b[0m\u001b[0mobj\u001b[0m\u001b[1;33m)\u001b[0m\u001b[1;33m\u001b[0m\u001b[1;33m\u001b[0m\u001b[0m\n\u001b[0m\u001b[0;32m    232\u001b[0m     \u001b[1;32mif\u001b[0m \u001b[0mcls\u001b[0m \u001b[1;32mis\u001b[0m \u001b[1;32mNone\u001b[0m\u001b[1;33m:\u001b[0m\u001b[1;33m\u001b[0m\u001b[1;33m\u001b[0m\u001b[0m\n\u001b[0;32m    233\u001b[0m         \u001b[0mcls\u001b[0m \u001b[1;33m=\u001b[0m \u001b[0mJSONEncoder\u001b[0m\u001b[1;33m\u001b[0m\u001b[1;33m\u001b[0m\u001b[0m\n",
      "\u001b[1;32m~\\Anaconda3\\lib\\json\\encoder.py\u001b[0m in \u001b[0;36mencode\u001b[1;34m(self, o)\u001b[0m\n\u001b[0;32m    197\u001b[0m         \u001b[1;31m# exceptions aren't as detailed.  The list call should be roughly\u001b[0m\u001b[1;33m\u001b[0m\u001b[1;33m\u001b[0m\u001b[1;33m\u001b[0m\u001b[0m\n\u001b[0;32m    198\u001b[0m         \u001b[1;31m# equivalent to the PySequence_Fast that ''.join() would do.\u001b[0m\u001b[1;33m\u001b[0m\u001b[1;33m\u001b[0m\u001b[1;33m\u001b[0m\u001b[0m\n\u001b[1;32m--> 199\u001b[1;33m         \u001b[0mchunks\u001b[0m \u001b[1;33m=\u001b[0m \u001b[0mself\u001b[0m\u001b[1;33m.\u001b[0m\u001b[0miterencode\u001b[0m\u001b[1;33m(\u001b[0m\u001b[0mo\u001b[0m\u001b[1;33m,\u001b[0m \u001b[0m_one_shot\u001b[0m\u001b[1;33m=\u001b[0m\u001b[1;32mTrue\u001b[0m\u001b[1;33m)\u001b[0m\u001b[1;33m\u001b[0m\u001b[1;33m\u001b[0m\u001b[0m\n\u001b[0m\u001b[0;32m    200\u001b[0m         \u001b[1;32mif\u001b[0m \u001b[1;32mnot\u001b[0m \u001b[0misinstance\u001b[0m\u001b[1;33m(\u001b[0m\u001b[0mchunks\u001b[0m\u001b[1;33m,\u001b[0m \u001b[1;33m(\u001b[0m\u001b[0mlist\u001b[0m\u001b[1;33m,\u001b[0m \u001b[0mtuple\u001b[0m\u001b[1;33m)\u001b[0m\u001b[1;33m)\u001b[0m\u001b[1;33m:\u001b[0m\u001b[1;33m\u001b[0m\u001b[1;33m\u001b[0m\u001b[0m\n\u001b[0;32m    201\u001b[0m             \u001b[0mchunks\u001b[0m \u001b[1;33m=\u001b[0m \u001b[0mlist\u001b[0m\u001b[1;33m(\u001b[0m\u001b[0mchunks\u001b[0m\u001b[1;33m)\u001b[0m\u001b[1;33m\u001b[0m\u001b[1;33m\u001b[0m\u001b[0m\n",
      "\u001b[1;32m~\\Anaconda3\\lib\\json\\encoder.py\u001b[0m in \u001b[0;36miterencode\u001b[1;34m(self, o, _one_shot)\u001b[0m\n\u001b[0;32m    255\u001b[0m                 \u001b[0mself\u001b[0m\u001b[1;33m.\u001b[0m\u001b[0mkey_separator\u001b[0m\u001b[1;33m,\u001b[0m \u001b[0mself\u001b[0m\u001b[1;33m.\u001b[0m\u001b[0mitem_separator\u001b[0m\u001b[1;33m,\u001b[0m \u001b[0mself\u001b[0m\u001b[1;33m.\u001b[0m\u001b[0msort_keys\u001b[0m\u001b[1;33m,\u001b[0m\u001b[1;33m\u001b[0m\u001b[1;33m\u001b[0m\u001b[0m\n\u001b[0;32m    256\u001b[0m                 self.skipkeys, _one_shot)\n\u001b[1;32m--> 257\u001b[1;33m         \u001b[1;32mreturn\u001b[0m \u001b[0m_iterencode\u001b[0m\u001b[1;33m(\u001b[0m\u001b[0mo\u001b[0m\u001b[1;33m,\u001b[0m \u001b[1;36m0\u001b[0m\u001b[1;33m)\u001b[0m\u001b[1;33m\u001b[0m\u001b[1;33m\u001b[0m\u001b[0m\n\u001b[0m\u001b[0;32m    258\u001b[0m \u001b[1;33m\u001b[0m\u001b[0m\n\u001b[0;32m    259\u001b[0m def _make_iterencode(markers, _default, _encoder, _indent, _floatstr,\n",
      "\u001b[1;32m~\\Anaconda3\\lib\\json\\encoder.py\u001b[0m in \u001b[0;36mdefault\u001b[1;34m(self, o)\u001b[0m\n\u001b[0;32m    177\u001b[0m \u001b[1;33m\u001b[0m\u001b[0m\n\u001b[0;32m    178\u001b[0m         \"\"\"\n\u001b[1;32m--> 179\u001b[1;33m         raise TypeError(f'Object of type {o.__class__.__name__} '\n\u001b[0m\u001b[0;32m    180\u001b[0m                         f'is not JSON serializable')\n\u001b[0;32m    181\u001b[0m \u001b[1;33m\u001b[0m\u001b[0m\n",
      "\u001b[1;31mTypeError\u001b[0m: Object of type MyClass is not JSON serializable"
     ]
    }
   ],
   "source": [
    "json.dumps(obj1)  # object can't be serializable in string "
   ]
  },
  {
   "cell_type": "code",
   "execution_count": 116,
   "metadata": {},
   "outputs": [
    {
     "name": "stdout",
     "output_type": "stream",
     "text": [
      "b'\\x80\\x03c__main__\\nMyClass\\nq\\x00)\\x81q\\x01}q\\x02(X\\x04\\x00\\x00\\x00nameq\\x03X\\x03\\x00\\x00\\x00abcq\\x04X\\x03\\x00\\x00\\x00ageq\\x05K\\x14ub.'\n",
      "<class 'bytes'>\n"
     ]
    },
    {
     "data": {
      "text/plain": [
       "{'name': 'abc', 'age': 20}"
      ]
     },
     "execution_count": 116,
     "metadata": {},
     "output_type": "execute_result"
    }
   ],
   "source": [
    "import pickle as pkl  # pickle library is used to serialize objects\n",
    "\n",
    "bs_data = pkl.dumps(obj1) # serialization + encoding \n",
    "\n",
    "print(bs_data) \n",
    "print(type(bs_data))\n",
    "\n",
    "obj2 = pkl.loads(bs_data)  # Decoding + Deserialization\n",
    "\n",
    "obj2.get_info()"
   ]
  },
  {
   "cell_type": "markdown",
   "metadata": {},
   "source": [
    "# Interfacing with the Operating System\n",
    "\n",
    "In this section we will discuss various methods a Python script may use to interface with an Operating Systems. We'll fist understand the Local interfacing i.e. the script runs on top of the OS. Later, We'll see how it communicates with a remote computer using networking protocols such as Telnet and SSH. "
   ]
  },
  {
   "cell_type": "markdown",
   "metadata": {},
   "source": [
    "## Local interfacing "
   ]
  },
  {
   "cell_type": "code",
   "execution_count": 130,
   "metadata": {},
   "outputs": [
    {
     "name": "stdout",
     "output_type": "stream",
     "text": [
      " Volume in drive C has no label.\n",
      "\n",
      " Volume Serial Number is 720E-DBD8\n",
      "\n",
      "\n",
      "\n",
      " Directory of C:\\Users\\sapta\\Documents\n",
      "\n",
      "\n",
      "\n",
      "21/02/2020  20:13         9,916,256 FileZilla_3.46.3_win64_sponsored-setup.exe\n",
      "\n",
      "05/06/2019  22:32        63,046,477 kodi-18.2-Leia-x64.exe\n",
      "\n",
      "05/06/2019  01:31        23,130,408 XTUSetup.exe\n",
      "\n",
      "               3 File(s)     96,093,141 bytes\n",
      "\n",
      "               0 Dir(s)  116,005,609,472 bytes free\n",
      "\n"
     ]
    }
   ],
   "source": [
    "import os\n",
    "\n",
    "cmd = 'dir *.exe'    # command to be executed\n",
    "for i in os.popen(cmd).readlines():\n",
    "    print(i)"
   ]
  },
  {
   "cell_type": "markdown",
   "metadata": {},
   "source": [
    "To run a command without any outputs"
   ]
  },
  {
   "cell_type": "code",
   "execution_count": 139,
   "metadata": {},
   "outputs": [
    {
     "name": "stdout",
     "output_type": "stream",
     "text": [
      " Volume in drive C has no label.\n",
      "\n",
      " Volume Serial Number is 720E-DBD8\n",
      "\n",
      "\n",
      "\n",
      " Directory of C:\\Users\\sapta\\Documents\n",
      "\n",
      "\n",
      "\n",
      "06/12/2020  15:32                 0 test1.txt\n",
      "\n",
      "06/12/2020  15:32                 0 test2.txt\n",
      "\n",
      "06/12/2020  15:32                 0 test3.txt\n",
      "\n",
      "               3 File(s)              0 bytes\n",
      "\n",
      "               0 Dir(s)  116,013,948,928 bytes free\n",
      "\n"
     ]
    }
   ],
   "source": [
    "import os \n",
    "\n",
    "# write a batch of commnad \n",
    "cmds = ['md test_dir' ,\n",
    "        'cd test_dir' ,\n",
    "        'fsutil file createnew test1.txt 0',\n",
    "        'fsutil file createnew test2.txt 0',\n",
    "        'fsutil file createnew test3.txt 0',\n",
    "        'cd..'\n",
    "       ]\n",
    "\n",
    "# call commands from the batch\n",
    "for c in cmds:\n",
    "    os.system(c)\n",
    "    \n",
    "# verify \n",
    "for i in os.popen('dir test*.txt').readlines():\n",
    "    print(i)"
   ]
  },
  {
   "cell_type": "markdown",
   "metadata": {},
   "source": [
    "## Remote Interfacing"
   ]
  },
  {
   "cell_type": "markdown",
   "metadata": {},
   "source": [
    "* Install Telnet daemon on the Linux host : `sudo apt -y install telnetd`\n",
    "* Verify installation using : `namp localhiost`"
   ]
  },
  {
   "cell_type": "code",
   "execution_count": null,
   "metadata": {},
   "outputs": [
    {
     "name": "stdout",
     "output_type": "stream",
     "text": [
      "Enter your remote account: rishi\n",
      "········\n"
     ]
    }
   ],
   "source": [
    "import telnetlib as tn\n",
    "import getpass\n",
    "\n",
    "host = '192.168.1.84'\n",
    "user = input(\"Enter your remote account: \")\n",
    "password = getpass.getpass()\n",
    "\n",
    "tn_session = tn.Telnet(host)\n",
    "\n",
    "tn_session.read_until(b\"login: \")\n",
    "tn_session.write(user.encode('ascii') + b\"\\n\")\n",
    "if password:\n",
    "    tn_session.read_until(b\"Password: \")\n",
    "    tn_session.write(password.encode('ascii') + b\"\\n\")\n",
    "    \n",
    "tn_session.write(b\"ls\\n\")\n",
    "print(tn_session.read_all().decode('ascii'))\n"
   ]
  },
  {
   "cell_type": "markdown",
   "metadata": {},
   "source": [
    "![](OSY_PY_pic1.png)"
   ]
  },
  {
   "cell_type": "markdown",
   "metadata": {},
   "source": [
    "Remote config with SSH (Secure Communication)"
   ]
  },
  {
   "cell_type": "code",
   "execution_count": 1,
   "metadata": {},
   "outputs": [
    {
     "name": "stdout",
     "output_type": "stream",
     "text": [
      "Enter host IP192.168.1.84\n",
      "Enter your remote account: rishi\n",
      "········\n",
      "distribution-karaf-0.4.4-Beryllium-SR4.tar.gz\n",
      "\n",
      "download\n",
      "\n",
      "odl\n",
      "\n",
      "ShellMon_sock\n",
      "\n",
      "test\n",
      "\n",
      "test1.txt\n",
      "\n",
      "test2.txt\n",
      "\n",
      "test34.txt\n",
      "\n",
      "test3.txt\n",
      "\n",
      "test5.txt\n",
      "\n",
      "test_dir\n",
      "\n",
      "testfile2.txt\n",
      "\n",
      "testfile.txt\n",
      "\n",
      "test.sh\n",
      "\n"
     ]
    }
   ],
   "source": [
    "import paramiko\n",
    "import getpass\n",
    "\n",
    "host = input('Enter host IP')\n",
    "port = 22\n",
    "username = input(\"Enter your remote account: \")\n",
    "password = getpass.getpass()\n",
    "\n",
    "command = \"ls\"\n",
    "\n",
    "ssh = paramiko.SSHClient()\n",
    "ssh.set_missing_host_key_policy(paramiko.AutoAddPolicy())\n",
    "ssh.connect(host, port, username, password)\n",
    "\n",
    "stdin, stdout, stderr = ssh.exec_command(command)\n",
    "for l in stdout.readlines():\n",
    "    print(l)"
   ]
  },
  {
   "cell_type": "markdown",
   "metadata": {},
   "source": [
    "![](OSY_PY_pic2.png)"
   ]
  },
  {
   "cell_type": "markdown",
   "metadata": {},
   "source": [
    "# Home Tasks"
   ]
  },
  {
   "cell_type": "markdown",
   "metadata": {},
   "source": [
    "1. Write a python API that runs shell scripts on demand. The shell scripts must be present on the system. The API must take the name of the script as input and display output from the script. Create at least 3 shell scripts of your choice to demonstrate. \n",
    "\n",
    "2. Write a python API that automatically calls DHCP request for dynamic IP allocation on a given interface, if it doesnt have any IP address.\n",
    "\n",
    "3. Write a python API that organises files. \n",
    "    * The API first takes a directory as input on which it will run the organization \n",
    "    * Thereafter, it asks for a list of pairs (filetype, destination_folder).\n",
    "    * For example, [('mp3','music'),('png','images'),('jpg','images'),('mov','videos')] means all '.mp3' files will be moved to 'Music' directory likewise for images and Videos. In case the directories do not exist, the API must create them. \n",
    "    \n",
    "4. Write a python API that remotely monitors number of processes running on a system over a given period. "
   ]
  },
  {
   "cell_type": "markdown",
   "metadata": {},
   "source": [
    "# Course Suggestion\n",
    "\n",
    "https://www.linkedin.com/learning/python-essential-training-2/"
   ]
  }
 ],
 "metadata": {
  "kernelspec": {
   "display_name": "Python 3",
   "language": "python",
   "name": "python3"
  },
  "language_info": {
   "codemirror_mode": {
    "name": "ipython",
    "version": 3
   },
   "file_extension": ".py",
   "mimetype": "text/x-python",
   "name": "python",
   "nbconvert_exporter": "python",
   "pygments_lexer": "ipython3",
   "version": "3.7.6"
  }
 },
 "nbformat": 4,
 "nbformat_minor": 4
}
